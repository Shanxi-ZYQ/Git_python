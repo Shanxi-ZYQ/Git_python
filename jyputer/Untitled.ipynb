{
 "cells": [
  {
   "cell_type": "code",
   "execution_count": 4,
   "id": "947c8bfd",
   "metadata": {},
   "outputs": [],
   "source": [
    "import numpy as np\n",
    "import matplotlib.pyplot as plt\n",
    "\n",
    "def loadSimpData():\n",
    "    dataMat = np.matrix([[1.,2.1],[1.5,1.6],[1.3,1.],[1.,1.],[2.,1.]])\n",
    "    classLabels = [1.0,1.0,-1.0,-1.0,1.0]\n",
    "    return dataMat,classLabels"
   ]
  },
  {
   "cell_type": "code",
   "execution_count": 5,
   "id": "a9cf8ae8",
   "metadata": {},
   "outputs": [],
   "source": [
    "def showDataSet(dataMat,labelMat):\n",
    "    data_plus=[]\n",
    "    data_minus=[]\n",
    "    for i in range(len(dataMat)):\n",
    "        if labelMat[i]>0:\n",
    "            data_plus.append(dataMat[i])\n",
    "        else:\n",
    "            data_minus.append(dataMat[i])\n",
    "    data_plus_np = np.array(data_plus)\n",
    "    data_minus_np = np.array(data_minus)\n",
    "    plt.scatter(np.transpose(data_plus_np)[0],np.transpose(data_plus_np)[1])\n",
    "    plt.scatter(np.transpose(data_minus_np)[0],np.transpose(data_minus_np)[1])\n",
    "    plt.show()"
   ]
  },
  {
   "cell_type": "code",
   "execution_count": 6,
   "id": "c4ad980d",
   "metadata": {},
   "outputs": [
    {
     "data": {
      "image/png": "[encoded data removed]",
      "text/plain": [
       "<Figure size 432x288 with 1 Axes>"
      ]
     },
     "metadata": {
      "needs_background": "light"
     },
     "output_type": "display_data"
    }
   ],
   "source": [
    "dataArr,classLabels = loadSimpData()\n",
    "showDataSet(dataArr,classLabels)"
   ]
  },
  {
   "cell_type": "code",
   "execution_count": null,
   "id": "7bb0bc4c",
   "metadata": {},
   "outputs": [],
   "source": []
  }
 ],
 "metadata": {
  "kernelspec": {
   "display_name": "Python 3 (ipykernel)",
   "language": "python",
   "name": "python3"
  },
  "language_info": {
   "codemirror_mode": {
    "name": "ipython",
    "version": 3
   },
   "file_extension": ".py",
   "mimetype": "text/x-python",
   "name": "python",
   "nbconvert_exporter": "python",
   "pygments_lexer": "ipython3",
   "version": "3.9.9"
  }
 },
 "nbformat": 4,
 "nbformat_minor": 5
}
